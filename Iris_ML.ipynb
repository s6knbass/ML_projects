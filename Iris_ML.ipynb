{
 "cells": [
  {
   "cell_type": "markdown",
   "id": "cf5b483e",
   "metadata": {},
   "source": [
    "Simple Exercise In Machine Learning:\n",
    "\n",
    "Data taken from https://archive.ics.uci.edu/ml/datasets/Iris\n",
    "\n",
    "Data Creator: R.A. Fischer\n",
    "\n",
    "Program Code: Kevin Bass\n",
    "\n",
    "\n",
    "As the first step. the libraries numpy, pandas, and matplotlib are imported"
   ]
  },
  {
   "cell_type": "code",
   "execution_count": 14,
   "id": "dab6e08f",
   "metadata": {},
   "outputs": [],
   "source": [
    "import numpy as np\n",
    "import pandas as pd\n",
    "import matplotlib.pyplot as plt\n",
    "import math\n",
    "\n",
    "%run machine_learning.ipynb"
   ]
  },
  {
   "cell_type": "code",
   "execution_count": 3,
   "id": "07ef84b4",
   "metadata": {},
   "outputs": [],
   "source": [
    "def read_file(file):\n",
    "    \"\"\"\n",
    "    intended to check the file is a text file, and then to return\n",
    "    the information contained within as an object\n",
    "    \"\"\"\n",
    "    if  open(file, \"r\"):\n",
    "        return pd.read_csv(file)"
   ]
  },
  {
   "cell_type": "code",
   "execution_count": 4,
   "id": "53340890",
   "metadata": {},
   "outputs": [],
   "source": [
    "def name_to_class(names):\n",
    "    \"\"\"\n",
    "    Argument:\n",
    "    names - vector of iris names in strings\n",
    "    \n",
    "    Returns:\n",
    "    iris_class - vector containing integers which correspond \n",
    "                 to the unique iris names\n",
    "                 0 - 'Iris-setosa'\n",
    "                 1 - 'Iris-versicolor'\n",
    "                 2 - 'Iris-virginica'\n",
    "    \"\"\"\n",
    "    n = names.shape[0]\n",
    "    m = names.shape[1]\n",
    "    iris_class = np.zeros((3, m), dtype = float)\n",
    "    for num in range(0, m):\n",
    "        if names[0][num] == 'Iris-setosa':\n",
    "            iris_class[:,num] = [1, 0, 0]\n",
    "        elif names[0][num] == 'Iris-versicolor':\n",
    "            iris_class[:,num] = [0, 1, 0]\n",
    "        elif names[0][num] == 'Iris-virginica':\n",
    "            iris_class[:,num] = [0, 0, 1]\n",
    "    return iris_class"
   ]
  },
  {
   "cell_type": "code",
   "execution_count": 5,
   "id": "0e922136",
   "metadata": {},
   "outputs": [],
   "source": [
    "def organize_data(data):\n",
    "    r,c = data.shape\n",
    "    half = r/2\n",
    "    if half.is_integer():\n",
    "        up = half\n",
    "        down = half\n",
    "    else:\n",
    "        up = math.ceil(half)\n",
    "        down = math.floor(half)\n",
    "        \n",
    "    training = {}\n",
    "    test = {}\n",
    "    \n",
    "    np.random.shuffle(data)\n",
    "    tr, te = data[:up,:], data[up:,:]\n",
    "    \n",
    "    train_x = (tr[:,0:4].T).astype(float)\n",
    "    train_y = name_to_class(tr[:,4].reshape(1,up))\n",
    "    \n",
    "    test_x = (te[:,0:4].T).astype(float)\n",
    "    test_y = name_to_class(te[:,4].reshape(1,down))\n",
    "    \n",
    "    training['X'] = train_x\n",
    "    training['Y'] = train_y\n",
    "    test['X'] = test_x\n",
    "    test['Y'] = test_y\n",
    "    \n",
    "    return training, test"
   ]
  },
  {
   "cell_type": "code",
   "execution_count": 16,
   "id": "c308633a",
   "metadata": {},
   "outputs": [
    {
     "data": {
      "image/png": "[encoded data removed]",
      "text/plain": [
       "<Figure size 432x288 with 1 Axes>"
      ]
     },
     "metadata": {
      "needs_background": "light"
     },
     "output_type": "display_data"
    },
    {
     "name": "stdout",
     "output_type": "stream",
     "text": [
      "total = 75 correct = 71\n",
      "Accuracy = 0.9466666666666667\n",
      "total = 74 correct = 71\n",
      "Accuracy = 0.9594594594594594\n"
     ]
    }
   ],
   "source": [
    "data_file = \"iris.data\"\n",
    "data = np.array(read_file(data_file))\n",
    "training, test = organize_data(data)\n",
    "\n",
    "train_x = training[\"X\"]\n",
    "train_y = training[\"Y\"]\n",
    "test_x = test[\"X\"]\n",
    "test_y = test[\"Y\"]\n",
    "\n",
    "n_x = 4\n",
    "n_h = 5\n",
    "n_y = 3\n",
    "layers_dims = (n_x, n_h, n_y)\n",
    "learning_rate = 0.0075\n",
    "\n",
    "layers_dims = (4,5,3)\n",
    "\n",
    "iris_ML = ML(3, train_x, train_y, test_x, test_y)\n",
    "iris_ML.set_layers_dims(layers_dims)\n",
    "iris_ML.run_machine()\n",
    "iris_ML.machine_accuracy()\n",
    "\n"
   ]
  },
  {
   "cell_type": "code",
   "execution_count": null,
   "id": "61f37a31",
   "metadata": {},
   "outputs": [],
   "source": []
  }
 ],
 "metadata": {
  "kernelspec": {
   "display_name": "Python 3",
   "language": "python",
   "name": "python3"
  },
  "language_info": {
   "codemirror_mode": {
    "name": "ipython",
    "version": 3
   },
   "file_extension": ".py",
   "mimetype": "text/x-python",
   "name": "python",
   "nbconvert_exporter": "python",
   "pygments_lexer": "ipython3",
   "version": "3.9.4"
  }
 },
 "nbformat": 4,
 "nbformat_minor": 5
}
