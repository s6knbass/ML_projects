{
 "cells": [
  {
   "cell_type": "code",
   "execution_count": 8,
   "id": "f665719f",
   "metadata": {},
   "outputs": [],
   "source": [
    "import numpy as np\n",
    "import pandas as pd\n",
    "import matplotlib.pyplot as plt\n",
    "import math\n",
    "import cv2\n",
    "import os\n",
    "%run deep_learning.ipynb"
   ]
  },
  {
   "cell_type": "code",
   "execution_count": 9,
   "id": "37503941",
   "metadata": {},
   "outputs": [],
   "source": [
    "def get_data(directory):\n",
    "    image_cache = []\n",
    "    nfiles2 = 0\n",
    "    idc = []\n",
    "    max_number = 10000\n",
    "    count = 0\n",
    "    for subdir, dirs, files in os.walk(directory):\n",
    "        for filename in files:\n",
    "            filepath = subdir + os.sep + filename\n",
    "            if filename.endswith(\".png\") or filename.endswith(\".png\"):\n",
    "                nfiles2 += 1\n",
    "                temp_img = cv2.imread(filepath)\n",
    "                temp_img = np.array(temp_img.reshape( -1).T,dtype = float)\n",
    "                temp_img = temp_img/255\n",
    "                if len(temp_img) == 7500:\n",
    "                    image_cache.append(temp_img)\n",
    "                    if subdir.endswith(\"/0\"):\n",
    "                        idc.append([0])\n",
    "                    elif subdir.endswith(\"/1\"):\n",
    "                        idc.append([1])\n",
    "                    count += 1\n",
    "                    if count == max_number:\n",
    "                        break\n",
    "        else:\n",
    "            continue\n",
    "        break\n",
    "    image_cache = np.vstack(image_cache)\n",
    "    image_cache = image_cache.T\n",
    "    idc = np.array(idc).T\n",
    "    print(image_cache.shape)\n",
    "    print(idc.shape)\n",
    "    return image_cache, idc"
   ]
  },
  {
   "cell_type": "code",
   "execution_count": 10,
   "id": "a00b9efc",
   "metadata": {},
   "outputs": [],
   "source": [
    "def rearrange_data(image_cache, idc_cache, train_rat = 0.8, test_rat = 0.2):\n",
    "    indices = np.arange(image_cache.shape[1])\n",
    "    np.random.shuffle(indices)\n",
    "    image_cache = image_cache[:,indices]\n",
    "    #image_cache = image_cache/255\n",
    "    idc_cache = idc_cache[:,indices]\n",
    "    \n",
    "    train_num = int(train_rat*image_cache.shape[1])\n",
    "    test_num = int(test_rat*image_cache.shape[1])\n",
    "    train_x, other_xdata = image_cache[:,:train_num], image_cache[:,train_num:]\n",
    "    test_x = other_xdata[:,:test_num]\n",
    "    train_y, other_ydata = idc_cache[:,:train_num], idc_cache[:,train_num:]\n",
    "    test_y = other_ydata[:,:test_num]\n",
    "    \n",
    "    \n",
    "    return train_x, train_y, test_x, test_y\n",
    "    "
   ]
  },
  {
   "cell_type": "code",
   "execution_count": 11,
   "id": "090f2054",
   "metadata": {},
   "outputs": [
    {
     "name": "stdout",
     "output_type": "stream",
     "text": [
      "(7500, 10000)\n",
      "(1, 10000)\n"
     ]
    }
   ],
   "source": [
    "directory = 'archive'\n",
    "image_cache, idc_cache = get_data(directory)"
   ]
  },
  {
   "cell_type": "code",
   "execution_count": null,
   "id": "f65d2566",
   "metadata": {},
   "outputs": [],
   "source": []
  },
  {
   "cell_type": "code",
   "execution_count": 12,
   "id": "560f89f9",
   "metadata": {},
   "outputs": [],
   "source": [
    "train_x, train_y, test_x, test_y = rearrange_data(image_cache, idc_cache)"
   ]
  },
  {
   "cell_type": "code",
   "execution_count": 13,
   "id": "40cb8211",
   "metadata": {},
   "outputs": [
    {
     "name": "stdout",
     "output_type": "stream",
     "text": [
      "(7500, 8000)\n",
      "(1, 8000)\n",
      "(7500, 2000)\n",
      "(1, 2000)\n"
     ]
    }
   ],
   "source": [
    "print(train_x.shape)\n",
    "print(train_y.shape)\n",
    "print(test_x.shape)\n",
    "print(test_y.shape)"
   ]
  },
  {
   "cell_type": "code",
   "execution_count": null,
   "id": "0359afe6",
   "metadata": {},
   "outputs": [],
   "source": [
    "%run deep_learning.ipynb\n",
    "layers_dims = (7500, 5, 8, 7, 1)\n",
    "num = len(layers_dims)\n",
    "idc_DL = DL(num, train_x, train_y, test_x, test_y, layers_dims)\n",
    "idc_DL.run_machine()\n",
    "idc_DL.machine_accuracy()"
   ]
  },
  {
   "cell_type": "code",
   "execution_count": null,
   "id": "66c7623d",
   "metadata": {},
   "outputs": [],
   "source": []
  }
 ],
 "metadata": {
  "kernelspec": {
   "display_name": "Python 3 (ipykernel)",
   "language": "python",
   "name": "python3"
  },
  "language_info": {
   "codemirror_mode": {
    "name": "ipython",
    "version": 3
   },
   "file_extension": ".py",
   "mimetype": "text/x-python",
   "name": "python",
   "nbconvert_exporter": "python",
   "pygments_lexer": "ipython3",
   "version": "3.9.1"
  }
 },
 "nbformat": 4,
 "nbformat_minor": 5
}
